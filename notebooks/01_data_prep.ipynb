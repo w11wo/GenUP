{
 "cells": [
  {
   "cell_type": "code",
   "execution_count": 1,
   "metadata": {},
   "outputs": [
    {
     "name": "stdout",
     "output_type": "stream",
     "text": [
      "/scratch/hn98/ww5368/NL-Summ-LLM/src\n"
     ]
    }
   ],
   "source": [
    "%cd /home/561/ww5368/ww5368/NL-Summ-LLM/src"
   ]
  },
  {
   "cell_type": "code",
   "execution_count": 2,
   "metadata": {},
   "outputs": [],
   "source": [
    "from pathlib import Path\n",
    "\n",
    "path = Path(\"../../LLM4POI/datasets\")\n",
    "nyc_dataset_path = path / \"nyc\" / \"preprocessed\""
   ]
  },
  {
   "cell_type": "code",
   "execution_count": 3,
   "metadata": {},
   "outputs": [],
   "source": [
    "def create_checkin_prompt(row):\n",
    "    prompt = 'At {UTCTimeOffset}, user {UserId} visited POI id {PoiId} which is a/an {PoiCategoryName} with category id {PoiCategoryId}.'\n",
    "    return prompt.format(**row)"
   ]
  },
  {
   "cell_type": "code",
   "execution_count": 4,
   "metadata": {},
   "outputs": [],
   "source": [
    "import pandas as pd\n",
    "\n",
    "train_df = pd.read_csv(nyc_dataset_path / \"train_sample.csv\")\n",
    "train_df.loc[:, \"prompt\"] = train_df.apply(create_checkin_prompt, axis=1)"
   ]
  },
  {
   "cell_type": "code",
   "execution_count": 5,
   "metadata": {},
   "outputs": [
    {
     "data": {
      "text/html": [
       "<div>\n",
       "<style scoped>\n",
       "    .dataframe tbody tr th:only-of-type {\n",
       "        vertical-align: middle;\n",
       "    }\n",
       "\n",
       "    .dataframe tbody tr th {\n",
       "        vertical-align: top;\n",
       "    }\n",
       "\n",
       "    .dataframe thead th {\n",
       "        text-align: right;\n",
       "    }\n",
       "</style>\n",
       "<table border=\"1\" class=\"dataframe\">\n",
       "  <thead>\n",
       "    <tr style=\"text-align: right;\">\n",
       "      <th></th>\n",
       "      <th>UserId</th>\n",
       "      <th>count</th>\n",
       "    </tr>\n",
       "  </thead>\n",
       "  <tbody>\n",
       "    <tr>\n",
       "      <th>0</th>\n",
       "      <td>0</td>\n",
       "      <td>19</td>\n",
       "    </tr>\n",
       "    <tr>\n",
       "      <th>1</th>\n",
       "      <td>1</td>\n",
       "      <td>36</td>\n",
       "    </tr>\n",
       "    <tr>\n",
       "      <th>2</th>\n",
       "      <td>2</td>\n",
       "      <td>6</td>\n",
       "    </tr>\n",
       "    <tr>\n",
       "      <th>3</th>\n",
       "      <td>3</td>\n",
       "      <td>36</td>\n",
       "    </tr>\n",
       "    <tr>\n",
       "      <th>4</th>\n",
       "      <td>4</td>\n",
       "      <td>55</td>\n",
       "    </tr>\n",
       "    <tr>\n",
       "      <th>...</th>\n",
       "      <td>...</td>\n",
       "      <td>...</td>\n",
       "    </tr>\n",
       "    <tr>\n",
       "      <th>1042</th>\n",
       "      <td>1042</td>\n",
       "      <td>53</td>\n",
       "    </tr>\n",
       "    <tr>\n",
       "      <th>1043</th>\n",
       "      <td>1043</td>\n",
       "      <td>77</td>\n",
       "    </tr>\n",
       "    <tr>\n",
       "      <th>1044</th>\n",
       "      <td>1044</td>\n",
       "      <td>44</td>\n",
       "    </tr>\n",
       "    <tr>\n",
       "      <th>1045</th>\n",
       "      <td>1045</td>\n",
       "      <td>191</td>\n",
       "    </tr>\n",
       "    <tr>\n",
       "      <th>1046</th>\n",
       "      <td>1046</td>\n",
       "      <td>120</td>\n",
       "    </tr>\n",
       "  </tbody>\n",
       "</table>\n",
       "<p>1047 rows × 2 columns</p>\n",
       "</div>"
      ],
      "text/plain": [
       "      UserId  count\n",
       "0          0     19\n",
       "1          1     36\n",
       "2          2      6\n",
       "3          3     36\n",
       "4          4     55\n",
       "...      ...    ...\n",
       "1042    1042     53\n",
       "1043    1043     77\n",
       "1044    1044     44\n",
       "1045    1045    191\n",
       "1046    1046    120\n",
       "\n",
       "[1047 rows x 2 columns]"
      ]
     },
     "execution_count": 5,
     "metadata": {},
     "output_type": "execute_result"
    }
   ],
   "source": [
    "uniq_user_df = train_df.groupby('UserId').size().reset_index(name='count')\n",
    "uniq_user_df"
   ]
  },
  {
   "cell_type": "code",
   "execution_count": 6,
   "metadata": {},
   "outputs": [
    {
     "data": {
      "text/plain": [
       "'At 2012-04-13 21:11:20, user 0 visited POI id 556 which is a/an Bar with category id 47. At 2012-04-14 00:45:13, user 0 visited POI id 256 which is a/an Bar with category id 46. At 2012-04-14 13:45:23, user 0 visited POI id 355 which is a/an Hotel with category id 258. At 2012-04-14 18:07:43, user 0 visited POI id 4180 which is a/an Bar with category id 36. At 2012-04-14 19:15:07, user 0 visited POI id 212 which is a/an Burger Joint with category id 129. At 2012-04-19 15:02:25, user 0 visited POI id 693 which is a/an Coffee Shop with category id 221. At 2012-04-19 18:51:19, user 0 visited POI id 1348 which is a/an American Restaurant with category id 101. At 2012-04-19 21:49:26, user 0 visited POI id 199 which is a/an Diner with category id 96. At 2012-04-20 20:15:18, user 0 visited POI id 534 which is a/an French Restaurant with category id 21. At 2012-04-21 12:28:11, user 0 visited POI id 4141 which is a/an American Restaurant with category id 101. At 2012-04-21 14:48:58, user 0 visited POI id 717 which is a/an Bar with category id 36. At 2012-04-22 13:33:27, user 0 visited POI id 3545 which is a/an American Restaurant with category id 109. At 2012-06-10 15:44:25, user 0 visited POI id 3672 which is a/an Flea Market with category id 254. At 2012-06-10 16:07:53, user 0 visited POI id 567 which is a/an Beer Garden with category id 38. At 2012-06-10 19:18:56, user 0 visited POI id 3478 which is a/an Hot Dog Joint with category id 132. At 2012-06-11 14:05:49, user 0 visited POI id 693 which is a/an Coffee Shop with category id 221. At 2012-07-03 18:12:37, user 0 visited POI id 1507 which is a/an Bar with category id 49. At 2012-07-04 15:47:05, user 0 visited POI id 727 which is a/an Movie Theater with category id 146. At 2012-07-04 21:00:14, user 0 visited POI id 3545 which is a/an American Restaurant with category id 109.'"
      ]
     },
     "execution_count": 6,
     "metadata": {},
     "output_type": "execute_result"
    }
   ],
   "source": [
    "users = train_df[\"UserId\"].unique()\n",
    "\n",
    "user_id = 0\n",
    "user_df = train_df[train_df[\"UserId\"] == user_id]\n",
    "user_history_prompt = \" \".join(user_df[\"prompt\"].values)\n",
    "user_history_prompt"
   ]
  },
  {
   "cell_type": "code",
   "execution_count": 7,
   "metadata": {},
   "outputs": [],
   "source": [
    "from gpt import GPT\n",
    "import openai\n",
    "\n",
    "openai.api_key_path = \"/home/561/ww5368/.openai_key\"\n",
    "\n",
    "llm = GPT()\n",
    "result = llm.generate(user_id=user_id, user_history_prompt=user_history_prompt)"
   ]
  },
  {
   "cell_type": "code",
   "execution_count": 8,
   "metadata": {},
   "outputs": [
    {
     "data": {
      "text/plain": [
       "{'traits': ['extroverted',\n",
       "  'agreeable',\n",
       "  'conscientious',\n",
       "  'emotionally stable',\n",
       "  'open'],\n",
       " 'attributes': ['adult', 'male', 'college & beyond', 'middle'],\n",
       " 'preferences': ['socializing',\n",
       "  'cuisine exploration',\n",
       "  'coffee culture',\n",
       "  'bar hopping'],\n",
       " 'routines': ['visiting bars frequently',\n",
       "  'enjoying American cuisine',\n",
       "  'coffee shop visits',\n",
       "  'going to the movies'],\n",
       " 'user_profile': 'User 0 is a sociable adult male who enjoys exploring the culinary scene, with a frequent preference for bars and American restaurants. He often visits local coffee shops, indicating a passion for coffee culture. With an educational background of some college, he likely values social interactions and has a wide network of acquaintances. User 0 appears to regularly indulge in leisure activities, often spending time at popular venues like bars, burger joints, and diners, suggesting an outgoing and adventurous lifestyle. He enjoys a blend of casual and upscale dining experiences, reflected in his visits to both local diners and French restaurants. In addition to dining, he enjoys visiting movie theaters, further showcasing his extroverted nature. His inclination towards varied dining and social activities points towards an appreciation for new experiences, making him open to experiencing diverse cultural offerings. Potential future visits include more bars and restaurants like POI 256, POI 693, and POI 567, as well as perhaps exploring new coffee shops and theaters in the area.'}"
      ]
     },
     "execution_count": 8,
     "metadata": {},
     "output_type": "execute_result"
    }
   ],
   "source": [
    "result"
   ]
  },
  {
   "cell_type": "code",
   "execution_count": null,
   "metadata": {},
   "outputs": [],
   "source": [
    "import json\n",
    "\n",
    "with open(\"../data/nyc/user_profile_0.json\", \"w\") as f:\n",
    "    json.dump(result, f, indent=4)"
   ]
  },
  {
   "cell_type": "code",
   "execution_count": 9,
   "metadata": {},
   "outputs": [
    {
     "name": "stderr",
     "output_type": "stream",
     "text": [
      "/scratch/hn98/ww5368/micromamba/lib/python3.12/site-packages/tqdm/auto.py:21: TqdmWarning: IProgress not found. Please update jupyter and ipywidgets. See https://ipywidgets.readthedocs.io/en/stable/user_install.html\n",
      "  from .autonotebook import tqdm as notebook_tqdm\n",
      "100%|██████████| 1047/1047 [00:03<00:00, 315.32it/s]\n"
     ]
    }
   ],
   "source": [
    "import tiktoken\n",
    "from tqdm.auto import tqdm\n",
    "\n",
    "tokenizer = tiktoken.encoding_for_model(\"gpt-4o\")\n",
    "sum_input_tokens = 0\n",
    "\n",
    "for user_id in tqdm(users):\n",
    "    user_df = train_df[train_df[\"UserId\"] == user_id]\n",
    "    user_history_prompt = \" \".join(user_df[\"prompt\"].values)\n",
    "    prompt = llm.prompt.format(user_id=user_id, user_history_prompt=user_history_prompt)\n",
    "\n",
    "    tokens = tokenizer.encode(prompt)\n",
    "    sum_input_tokens += len(tokens)"
   ]
  },
  {
   "cell_type": "code",
   "execution_count": 10,
   "metadata": {},
   "outputs": [
    {
     "data": {
      "text/plain": [
       "0.50672085"
      ]
     },
     "execution_count": 10,
     "metadata": {},
     "output_type": "execute_result"
    }
   ],
   "source": [
    "sum_input_tokens / 1_000_000 * 0.15"
   ]
  },
  {
   "cell_type": "code",
   "execution_count": 12,
   "metadata": {},
   "outputs": [],
   "source": [
    "import json\n",
    "\n",
    "sum_output_tokens = 0\n",
    "\n",
    "json_files = list(Path(\"../data/nyc\").rglob(\"*.json\"))\n",
    "for f in json_files:\n",
    "    with open(f, \"r\") as f:\n",
    "        data = json.load(f)\n",
    "    line = data.__repr__()\n",
    "    sum_output_tokens += len(tokenizer.encode(line))"
   ]
  },
  {
   "cell_type": "code",
   "execution_count": 13,
   "metadata": {},
   "outputs": [
    {
     "data": {
      "text/plain": [
       "0.18440216756756753"
      ]
     },
     "execution_count": 13,
     "metadata": {},
     "output_type": "execute_result"
    }
   ],
   "source": [
    "sum_output_tokens / len(json_files) * len(uniq_user_df) / 1_000_000 * 0.6"
   ]
  },
  {
   "cell_type": "code",
   "execution_count": null,
   "metadata": {},
   "outputs": [],
   "source": []
  }
 ],
 "metadata": {
  "kernelspec": {
   "display_name": "Python 3",
   "language": "python",
   "name": "python3"
  },
  "language_info": {
   "codemirror_mode": {
    "name": "ipython",
    "version": 3
   },
   "file_extension": ".py",
   "mimetype": "text/x-python",
   "name": "python",
   "nbconvert_exporter": "python",
   "pygments_lexer": "ipython3",
   "version": "3.12.0"
  }
 },
 "nbformat": 4,
 "nbformat_minor": 2
}
