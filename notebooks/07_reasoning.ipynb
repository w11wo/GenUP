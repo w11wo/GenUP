{
 "cells": [
  {
   "cell_type": "code",
   "execution_count": 1,
   "metadata": {},
   "outputs": [
    {
     "name": "stderr",
     "output_type": "stream",
     "text": [
      "/srv/scratch/CRUISE/Wilson/micromamba/lib/python3.12/site-packages/tqdm/auto.py:21: TqdmWarning: IProgress not found. Please update jupyter and ipywidgets. See https://ipywidgets.readthedocs.io/en/stable/user_install.html\n",
      "  from .autonotebook import tqdm as notebook_tqdm\n"
     ]
    }
   ],
   "source": [
    "from datasets import load_dataset\n",
    "\n",
    "dataset_id = \"w11wo/FourSquare-NYC-POI\"\n",
    "dataset = load_dataset(dataset_id, split=\"train\")"
   ]
  },
  {
   "cell_type": "code",
   "execution_count": 2,
   "metadata": {},
   "outputs": [
    {
     "data": {
      "text/plain": [
       "{'system_prompt': 'You are user 0 and your basic information is as follows:\\nAge: adult; Gender: male; Education: college & beyond; SocioEco: middle.\\nYou have the following traits: extroverted, agreeable, conscientious, emotionally stable, open.\\nYou have the following preferences: socializing at bars, enjoying diverse cuisines, visiting coffee shops, exploring flea markets, watching movies.\\nYou have the following routines: frequent visits to bars and restaurants, regular coffee outings, attending social events on weekends.\\nUser 0 is an outgoing adult male, likely in his late 20s to early 30s, who enjoys an active social life. He frequently visits bars, and restaurants, and is open to trying various cuisines, as indicated by his choices of American, French, and burger joints. His preference for social settings suggests a high level of extroversion and agreeability. User 0 also appears conscientious, as he maintains a routine that involves balancing social activities, including attending flea markets and coffee shops, with an appreciation for cultural experiences, such as watching movies. His choices indicate an emotionally stable character with a proclivity to embrace new experiences, fitting the profile of an open-minded individual who values social connections and diverse interests. Notable POIs for future visits include local bars (e.g., POI IDs 556, 256) and restaurants (e.g., POI IDs 1348, 534), reflecting his ongoing inclination towards culinary exploration and sociability.',\n",
       " 'inputs': 'The following data is a trajectory of user 0: At 2012-06-10 15:44:25, user 0 visited POI id 3672 which is a Flea Market and has Category id 254. At 2012-06-10 16:07:53, user 0 visited POI id 567 which is a Beer Garden and has Category id 38. At 2012-06-10 19:18:56, user 0 visited POI id 3478 which is a Hot Dog Joint and has Category id 132.\\nGiven the data, At 2012-06-11 14:05:49, Which POI id will user 0 visit? Note that POI id is an integer in the range from 0 to 4981.',\n",
       " 'targets': 'At 2012-06-11 14:05:49, user 0 will visit POI id 693.',\n",
       " 'llama_prompt': '<s>[INST] <<SYS>>\\nYou are user 0 and your basic information is as follows:\\nAge: adult; Gender: male; Education: college & beyond; SocioEco: middle.\\nYou have the following traits: extroverted, agreeable, conscientious, emotionally stable, open.\\nYou have the following preferences: socializing at bars, enjoying diverse cuisines, visiting coffee shops, exploring flea markets, watching movies.\\nYou have the following routines: frequent visits to bars and restaurants, regular coffee outings, attending social events on weekends.\\nUser 0 is an outgoing adult male, likely in his late 20s to early 30s, who enjoys an active social life. He frequently visits bars, and restaurants, and is open to trying various cuisines, as indicated by his choices of American, French, and burger joints. His preference for social settings suggests a high level of extroversion and agreeability. User 0 also appears conscientious, as he maintains a routine that involves balancing social activities, including attending flea markets and coffee shops, with an appreciation for cultural experiences, such as watching movies. His choices indicate an emotionally stable character with a proclivity to embrace new experiences, fitting the profile of an open-minded individual who values social connections and diverse interests. Notable POIs for future visits include local bars (e.g., POI IDs 556, 256) and restaurants (e.g., POI IDs 1348, 534), reflecting his ongoing inclination towards culinary exploration and sociability.\\n<</SYS>>\\n\\nThe following data is a trajectory of user 0: At 2012-06-10 15:44:25, user 0 visited POI id 3672 which is a Flea Market and has Category id 254. At 2012-06-10 16:07:53, user 0 visited POI id 567 which is a Beer Garden and has Category id 38. At 2012-06-10 19:18:56, user 0 visited POI id 3478 which is a Hot Dog Joint and has Category id 132.\\nGiven the data, At 2012-06-11 14:05:49, Which POI id will user 0 visit? Note that POI id is an integer in the range from 0 to 4981. [/INST] At 2012-06-11 14:05:49, user 0 will visit POI id 693. </s>'}"
      ]
     },
     "execution_count": 2,
     "metadata": {},
     "output_type": "execute_result"
    }
   ],
   "source": [
    "dataset[0]"
   ]
  },
  {
   "cell_type": "code",
   "execution_count": 3,
   "metadata": {},
   "outputs": [],
   "source": [
    "def create_reasoning_prompt(datum):\n",
    "    system_prompt = datum[\"system_prompt\"]\n",
    "    trajectory = datum[\"inputs\"]\n",
    "    target = datum[\"targets\"]\n",
    "    cot_prompt = \"\"\"With a step-by-step reasoning, suggest why they might have intended on visiting that POI. Analyze the user's profiles, previous visits in trajectory, time of visit of the POI, and their routines. DO NOT mention or analyze the selected POI id at all. You may suggest POI categories that they might have wanted to visit at that hour and based on their profile and trajectory. Return your response in JSON format: {{\"profile_analysis\": ..., \"trajectory_analysis\": ..., \"time_of_visit_analysis\": ..., \"routines_and_preferences_analysis\": ..., \"pontential_categories_of_interest_analysis\": ..., \"verdict\": ...}}\"\"\"\n",
    "    prompt = f\"{system_prompt}\\n\\n{trajectory}\\n\\n{target}\\n\\n{cot_prompt}\"\n",
    "    return prompt"
   ]
  },
  {
   "cell_type": "code",
   "execution_count": 4,
   "metadata": {},
   "outputs": [],
   "source": [
    "import openai\n",
    "\n",
    "openai.api_key_path = \"/import/glass/1/z5601796/.openai_key\"\n",
    "\n",
    "response = openai.ChatCompletion.create(\n",
    "    model=\"gpt-4o-mini-2024-07-18\",\n",
    "    response_format={\"type\": \"json_object\"},\n",
    "    messages=[\n",
    "        {\n",
    "            \"role\": \"user\",\n",
    "            \"content\": create_reasoning_prompt(dataset[0]),\n",
    "        }\n",
    "    ],\n",
    ")\n",
    "\n",
    "result = response.choices[0].message.content"
   ]
  },
  {
   "cell_type": "code",
   "execution_count": 5,
   "metadata": {},
   "outputs": [
    {
     "data": {
      "text/plain": [
       "{'profile_analysis': 'User 0 is an extroverted, sociable adult male likely in his late 20s to early 30s, who enjoys diverse cultural experiences and social gatherings. His traits, such as being agreeable and open, suggest that he values social connections and is keen to explore various environments.',\n",
       " 'trajectory_analysis': \"The previous visits on June 10th to a flea market, beer garden, and hot dog joint indicate user 0's enjoyment of social, lively settings and quick dining options. These choices reflect his propensity to engage in casual, communal environments where he can enjoy food and socialize.\",\n",
       " 'time_of_visit_analysis': \"The planned visit at 14:05:49 suggests a preference for an afternoon outing. Typically, this time would be suitable for a light meal, coffee, or a relaxed social setting, aligning with user 0's established routines of frequent cafe or bar visits during daytime hours.\",\n",
       " 'routines_and_preferences_analysis': 'User 0 has a routine that includes regular visits to bars, restaurants, and coffee shops, especially on weekends. Given his extroverted nature, it is likely that he prefers environments that foster social interaction, particularly during the afternoon when he has the opportunity to connect with friends or enjoy a moment of leisure. This aligns with his interest in exploring diverse cuisines.',\n",
       " 'pontential_categories_of_interest_analysis': \"At this time, user 0 may be inclined to visit locations that fit categories like cafes, casual dining, or bars that are open for lunch. These environments are conducive to socializing and trying new culinary offerings, which are integral to user 0's interests.\",\n",
       " 'verdict': \"Taking into account user 0's profile, past trajectories, time of visit, and established preferences, it seems likely that he intended to visit a location that provides a sociable atmosphere with opportunities for culinary exploration or relaxing with friends.\"}"
      ]
     },
     "execution_count": 5,
     "metadata": {},
     "output_type": "execute_result"
    }
   ],
   "source": [
    "import json\n",
    "\n",
    "json.loads(result)"
   ]
  },
  {
   "cell_type": "code",
   "execution_count": null,
   "metadata": {},
   "outputs": [],
   "source": []
  }
 ],
 "metadata": {
  "kernelspec": {
   "display_name": "Python 3 (ipykernel)",
   "language": "python",
   "name": "python3"
  },
  "language_info": {
   "codemirror_mode": {
    "name": "ipython",
    "version": 3
   },
   "file_extension": ".py",
   "mimetype": "text/x-python",
   "name": "python",
   "nbconvert_exporter": "python",
   "pygments_lexer": "ipython3",
   "version": "3.12.0"
  }
 },
 "nbformat": 4,
 "nbformat_minor": 2
}
