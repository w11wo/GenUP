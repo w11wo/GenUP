{
 "cells": [
  {
   "cell_type": "code",
   "execution_count": 1,
   "metadata": {},
   "outputs": [],
   "source": [
    "import json\n",
    "from pathlib import Path\n",
    "\n",
    "input_path = Path(\"../../LLM4POI/datasets\")\n",
    "json_path = Path(\"../data\")\n",
    "dataset = \"nyc\"\n",
    "\n",
    "dataset_path = input_path / dataset / \"preprocessed\"\n",
    "profiles_path = json_path / dataset\n",
    "\n",
    "def get_user_profile(user_id: str, profiles_path: Path) -> dict:\n",
    "    user_profile_file = profiles_path / f\"user_profile_{user_id}.json\"\n",
    "    with user_profile_file.open() as f:\n",
    "        user_profile = json.load(f)\n",
    "    return user_profile"
   ]
  },
  {
   "cell_type": "code",
   "execution_count": 2,
   "metadata": {},
   "outputs": [],
   "source": [
    "with open(dataset_path / \"train_qa_pairs_kqt.json\") as f:\n",
    "    raw_data_train = json.load(f)\n",
    "\n",
    "with open(dataset_path / \"test_qa_pairs_kqt.txt\") as f:\n",
    "    raw_data_test = f.read().splitlines()\n",
    "\n",
    "raw_data_test = [{\"question\": q, \"answer\": a} for line in raw_data_test for (q, a) in [line.split(\"<answer>:\")]]\n",
    "raw_data_test = [datum for datum in raw_data_test if \"<question>:\" in datum[\"question\"]]"
   ]
  },
  {
   "cell_type": "code",
   "execution_count": 6,
   "metadata": {},
   "outputs": [],
   "source": [
    "import re\n",
    "\n",
    "LLAMA_PROMPT = \"\"\"<s>[INST] <<SYS>>\n",
    "{profile}\n",
    "<</SYS>>\n",
    "\n",
    "{instruction} [/INST] {answer} </s>\"\"\"\n",
    "\n",
    "def create_system_prompt(user_profile: dict, user_id: str) -> str:\n",
    "    age, gender, education, socioeco = user_profile[\"attributes\"]\n",
    "    traits = \", \".join(user_profile[\"traits\"])\n",
    "    preferences = \", \".join(user_profile[\"preferences\"])\n",
    "    routines = \", \".join(user_profile[\"routines\"])\n",
    "    user_profile_str = user_profile[\"user_profile\"]\n",
    "    system_prompt = f\"\"\"You are user {user_id} and your basic information is as follows:\n",
    "Age: {age}; Gender: {gender}; Education: {education}; SocioEco: {socioeco}.\n",
    "You have the following traits: {traits}.\n",
    "You have the following preferences: {preferences}.\n",
    "You have the following routines: {routines}.\n",
    "{user_profile_str}\"\"\"\n",
    "    return system_prompt\n",
    "\n",
    "def process_qa_pair(question: str, answer: str) -> dict:\n",
    "    # remove <answer> prefix\n",
    "    answer = answer.replace(\"<answer>: \", \"\").strip()\n",
    "\n",
    "    # remove historical data and <question> prefix\n",
    "    question = question.replace(\"<question>: \", \"\")\n",
    "    current_trajectory_prompt = question.split(\"There is also historical data:\")[0].strip()\n",
    "\n",
    "    # get instruction\n",
    "    question_prompt = re.search(\n",
    "        r\"(Given the data, At (.+?), Which POI id will user (\\d+) visit\\? Note that POI id is an integer in the range from 0 to (\\d+).)\",\n",
    "        question,\n",
    "    ).group(1)\n",
    "    instruction = current_trajectory_prompt + \"\\n\" + question_prompt\n",
    "\n",
    "    # get user profile from id\n",
    "    user_id = re.match(r\"The following data is a trajectory of user (\\d+):\", current_trajectory_prompt).group(1)\n",
    "    user_profile = get_user_profile(user_id, profiles_path)\n",
    "\n",
    "    # create system prompt\n",
    "    system_prompt = create_system_prompt(user_profile, user_id)\n",
    "\n",
    "    # create llama SFT prompt\n",
    "    llama_prompt = LLAMA_PROMPT.format(profile=system_prompt, instruction=instruction, answer=answer)\n",
    "\n",
    "    return {\"system_prompt\": system_prompt, \"inputs\": instruction, \"targets\": answer, \"llama_prompt\": llama_prompt}"
   ]
  },
  {
   "cell_type": "code",
   "execution_count": 9,
   "metadata": {},
   "outputs": [
    {
     "name": "stderr",
     "output_type": "stream",
     "text": [
      "  0%|          | 0/11022 [00:00<?, ?it/s]"
     ]
    },
    {
     "name": "stderr",
     "output_type": "stream",
     "text": [
      "100%|██████████| 11022/11022 [00:07<00:00, 1546.25it/s]\n",
      "100%|██████████| 1429/1429 [00:01<00:00, 1397.46it/s]\n"
     ]
    }
   ],
   "source": [
    "from tqdm.auto import tqdm\n",
    "\n",
    "train_data = [process_qa_pair(**datum) for datum in tqdm(raw_data_train)]\n",
    "test_data = [process_qa_pair(**datum) for datum in tqdm(raw_data_test)]"
   ]
  },
  {
   "cell_type": "code",
   "execution_count": 10,
   "metadata": {},
   "outputs": [
    {
     "data": {
      "text/plain": [
       "{'system_prompt': 'You are user 0 and your basic information is as follows:\\nAge: adult; Gender: male; Education: college & beyond; SocioEco: middle.\\nYou have the following traits: extroverted, agreeable, conscientious, emotionally stable, open.\\nYou have the following preferences: socializing at bars, enjoying diverse cuisines, visiting coffee shops, exploring flea markets, watching movies.\\nYou have the following routines: frequent visits to bars and restaurants, regular coffee outings, attending social events on weekends.\\nUser 0 is an outgoing adult male, likely in his late 20s to early 30s, who enjoys an active social life. He frequently visits bars, and restaurants, and is open to trying various cuisines, as indicated by his choices of American, French, and burger joints. His preference for social settings suggests a high level of extroversion and agreeability. User 0 also appears conscientious, as he maintains a routine that involves balancing social activities, including attending flea markets and coffee shops, with an appreciation for cultural experiences, such as watching movies. His choices indicate an emotionally stable character with a proclivity to embrace new experiences, fitting the profile of an open-minded individual who values social connections and diverse interests. Notable POIs for future visits include local bars (e.g., POI IDs 556, 256) and restaurants (e.g., POI IDs 1348, 534), reflecting his ongoing inclination towards culinary exploration and sociability.',\n",
       " 'inputs': 'The following data is a trajectory of user 0: At 2012-06-10 15:44:25, user 0 visited POI id 3672 which is a Flea Market and has Category id 254. At 2012-06-10 16:07:53, user 0 visited POI id 567 which is a Beer Garden and has Category id 38. At 2012-06-10 19:18:56, user 0 visited POI id 3478 which is a Hot Dog Joint and has Category id 132.\\nGiven the data, At 2012-06-11 14:05:49, Which POI id will user 0 visit? Note that POI id is an integer in the range from 0 to 4981.',\n",
       " 'targets': 'At 2012-06-11 14:05:49, user 0 will visit POI id 693.',\n",
       " 'llama_prompt': '<s>[INST] <<SYS>>\\nYou are user 0 and your basic information is as follows:\\nAge: adult; Gender: male; Education: college & beyond; SocioEco: middle.\\nYou have the following traits: extroverted, agreeable, conscientious, emotionally stable, open.\\nYou have the following preferences: socializing at bars, enjoying diverse cuisines, visiting coffee shops, exploring flea markets, watching movies.\\nYou have the following routines: frequent visits to bars and restaurants, regular coffee outings, attending social events on weekends.\\nUser 0 is an outgoing adult male, likely in his late 20s to early 30s, who enjoys an active social life. He frequently visits bars, and restaurants, and is open to trying various cuisines, as indicated by his choices of American, French, and burger joints. His preference for social settings suggests a high level of extroversion and agreeability. User 0 also appears conscientious, as he maintains a routine that involves balancing social activities, including attending flea markets and coffee shops, with an appreciation for cultural experiences, such as watching movies. His choices indicate an emotionally stable character with a proclivity to embrace new experiences, fitting the profile of an open-minded individual who values social connections and diverse interests. Notable POIs for future visits include local bars (e.g., POI IDs 556, 256) and restaurants (e.g., POI IDs 1348, 534), reflecting his ongoing inclination towards culinary exploration and sociability.\\n<</SYS>>\\n\\nThe following data is a trajectory of user 0: At 2012-06-10 15:44:25, user 0 visited POI id 3672 which is a Flea Market and has Category id 254. At 2012-06-10 16:07:53, user 0 visited POI id 567 which is a Beer Garden and has Category id 38. At 2012-06-10 19:18:56, user 0 visited POI id 3478 which is a Hot Dog Joint and has Category id 132.\\nGiven the data, At 2012-06-11 14:05:49, Which POI id will user 0 visit? Note that POI id is an integer in the range from 0 to 4981. [/INST] At 2012-06-11 14:05:49, user 0 will visit POI id 693. </s>'}"
      ]
     },
     "execution_count": 10,
     "metadata": {},
     "output_type": "execute_result"
    }
   ],
   "source": [
    "train_data[0]"
   ]
  },
  {
   "cell_type": "code",
   "execution_count": 8,
   "metadata": {},
   "outputs": [
    {
     "data": {
      "text/plain": [
       "{'system_prompt': 'You are user 1 and your basic information is as follows:\\nAge: adult; Gender: male; Education: college & beyond; SocioEco: middle.\\nYou have the following traits: extroverted, agreeable, conscientious, emotionally stable, open.\\nYou have the following preferences: frequent coffee shops, enjoys gym workouts, likes dining out, shops at department stores, frequent subway user.\\nYou have the following routines: visits gym regularly, stops by coffee shops after meals, shops at department stores on weekends, uses public transportation frequently.\\nUser 1 is an outgoing male in his late 20s who actively engages with his community through visits to various local amenities. He frequents coffee shops and enjoys socializing over a cup of coffee, which suggests a preference for casual social environments and a love for good food and drink. Regular trips to the gym indicate a health-conscious lifestyle, coupled with a disciplined routine that highlights his conscientious nature. User 1 enjoys shopping, particularly at department and clothing stores, which aligns with a preference for style and appearance. His consistent use of public transport like subways points to a practical and busy lifestyle. This user exhibits an inquisitive nature which indicates openness to experiences, enjoying new places and food. The mix of fitness activities, dining out, and shopping showcases a balanced social life, with a focus on health and personal style. Important future places of interest may include more specialized fitness centers, trendy cafes, and shopping districts, reflecting his urban lifestyle.',\n",
       " 'inputs': 'The following data is a trajectory of user 1: At 2013-01-02 12:39:53, user 1 visited POI id 480 which is a Department Store and has Category id 253. At 2013-01-02 14:52:22, user 1 visited POI id 1218 which is a Coffee Shop and has Category id 221.\\nGiven the data, At 2013-01-03 10:13:27, Which POI id will user 1 visit? Note that POI id is an integer in the range from 0 to 4981.',\n",
       " 'targets': 'At 2013-01-03 10:13:27, user 1 will visit POI id 2297.',\n",
       " 'llama_prompt': '<s>[INST] <<SYS>>\\nYou are user 1 and your basic information is as follows:\\nAge: adult; Gender: male; Education: college & beyond; SocioEco: middle.\\nYou have the following traits: extroverted, agreeable, conscientious, emotionally stable, open.\\nYou have the following preferences: frequent coffee shops, enjoys gym workouts, likes dining out, shops at department stores, frequent subway user.\\nYou have the following routines: visits gym regularly, stops by coffee shops after meals, shops at department stores on weekends, uses public transportation frequently.\\nUser 1 is an outgoing male in his late 20s who actively engages with his community through visits to various local amenities. He frequents coffee shops and enjoys socializing over a cup of coffee, which suggests a preference for casual social environments and a love for good food and drink. Regular trips to the gym indicate a health-conscious lifestyle, coupled with a disciplined routine that highlights his conscientious nature. User 1 enjoys shopping, particularly at department and clothing stores, which aligns with a preference for style and appearance. His consistent use of public transport like subways points to a practical and busy lifestyle. This user exhibits an inquisitive nature which indicates openness to experiences, enjoying new places and food. The mix of fitness activities, dining out, and shopping showcases a balanced social life, with a focus on health and personal style. Important future places of interest may include more specialized fitness centers, trendy cafes, and shopping districts, reflecting his urban lifestyle.\\n<</SYS>>\\n\\nThe following data is a trajectory of user 1: At 2013-01-02 12:39:53, user 1 visited POI id 480 which is a Department Store and has Category id 253. At 2013-01-02 14:52:22, user 1 visited POI id 1218 which is a Coffee Shop and has Category id 221.\\nGiven the data, At 2013-01-03 10:13:27, Which POI id will user 1 visit? Note that POI id is an integer in the range from 0 to 4981. [/INST] At 2013-01-03 10:13:27, user 1 will visit POI id 2297. </s>'}"
      ]
     },
     "execution_count": 8,
     "metadata": {},
     "output_type": "execute_result"
    }
   ],
   "source": [
    "test_data[0]"
   ]
  },
  {
   "cell_type": "code",
   "execution_count": null,
   "metadata": {},
   "outputs": [],
   "source": []
  }
 ],
 "metadata": {
  "kernelspec": {
   "display_name": "Python 3",
   "language": "python",
   "name": "python3"
  },
  "language_info": {
   "codemirror_mode": {
    "name": "ipython",
    "version": 3
   },
   "file_extension": ".py",
   "mimetype": "text/x-python",
   "name": "python",
   "nbconvert_exporter": "python",
   "pygments_lexer": "ipython3",
   "version": "3.12.0"
  }
 },
 "nbformat": 4,
 "nbformat_minor": 2
}
